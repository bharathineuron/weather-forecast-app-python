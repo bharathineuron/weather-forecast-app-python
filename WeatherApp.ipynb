{
 "cells": [
  {
   "cell_type": "markdown",
   "metadata": {},
   "source": [
    "## Import the required libraries"
   ]
  },
  {
   "cell_type": "code",
   "execution_count": 1,
   "metadata": {},
   "outputs": [],
   "source": [
    "from functools import reduce\n",
    "import pandas as pd\n",
    "import pprint\n",
    "import os"
   ]
  },
  {
   "cell_type": "markdown",
   "metadata": {},
   "source": [
    "## Create the class for Classifier"
   ]
  },
  {
   "cell_type": "code",
   "execution_count": 2,
   "metadata": {},
   "outputs": [],
   "source": [
    "class Classifier():\n",
    "    data = None\n",
    "    class_attr = None\n",
    "    priori = {}\n",
    "    cp = {}\n",
    "    hypothesis = None\n",
    "\n",
    "\n",
    "    def __init__(self,filename=None, class_attr=None ):\n",
    "        self.data = pd.read_csv(filename, sep=',', header =(0))\n",
    "        self.class_attr = class_attr\n",
    "\n",
    "    \n",
    "    def calculate_priori(self):\n",
    "        '''\n",
    "        probability(class) =    How many  times it appears in column\n",
    "                             __________________________________________\n",
    "                                  count of all class attribute\n",
    "        '''\n",
    "        class_values = list(set(self.data[self.class_attr]))\n",
    "        class_data =  list(self.data[self.class_attr])\n",
    "        for i in class_values:\n",
    "            self.priori[i]  = class_data.count(i)/float(len(class_data))\n",
    "        print (\"Priori Values: \", self.priori)\n",
    "\n",
    "    \n",
    "    def get_cp(self, attr, attr_type, class_value):\n",
    "        '''\n",
    "        Here we calculate the individual probabilities \n",
    "        P(outcome|evidence) =   P(Likelihood of Evidence) x Prior prob of outcome\n",
    "                               ___________________________________________\n",
    "                                                    P(Evidence)\n",
    "        '''\n",
    "        data_attr = list(self.data[attr])\n",
    "        class_data = list(self.data[self.class_attr])\n",
    "        total =1\n",
    "        for i in range(0, len(data_attr)):\n",
    "            if class_data[i] == class_value and data_attr[i] == attr_type:\n",
    "                total+=1\n",
    "        return total/float(class_data.count(class_value))\n",
    "\n",
    "    \n",
    "    def calculate_conditional_probabilities(self, hypothesis):\n",
    "        '''\n",
    "        Here we calculate Likelihood of Evidence and multiple all individual probabilities with priori\n",
    "        (Outcome|Multiple Evidence) = P(Evidence1|Outcome) x P(Evidence2|outcome) x ... x P(EvidenceN|outcome) x P(Outcome)\n",
    "        scaled by P(Multiple Evidence)\n",
    "        '''\n",
    "        for i in self.priori:\n",
    "            self.cp[i] = {}\n",
    "            for j in hypothesis:\n",
    "                self.cp[i].update({ hypothesis[j]: self.get_cp(j, hypothesis[j], i)})\n",
    "        print (\"\\nCalculated Conditional Probabilities: \\n\")\n",
    "        pprint.pprint(self.cp)\n",
    "\n",
    "    def classify(self):\n",
    "        print (\"Result: \")\n",
    "        for i in self.cp:\n",
    "            print (i, \" ==> \", reduce(lambda x, y: x*y, self.cp[i].values())*self.priori[i])\n",
    "\n",
    "\n",
    "def exitSystem():\n",
    "    '''    Exit from the system it the input is \"x\" or \"exit\"   '''\n",
    "        print(\"System Terminated!\")\n",
    "        print(\"Thank you for using this system!\")\n",
    "        exit()"
   ]
  },
  {
   "cell_type": "markdown",
   "metadata": {},
   "source": [
    "Create the path of the dataset to pass it to the Classifier while creating the instance"
   ]
  },
  {
   "cell_type": "code",
   "execution_count": 4,
   "metadata": {},
   "outputs": [],
   "source": [
    "path = os.path.join(os.getcwd(), 'Data/dataset.csv')"
   ]
  },
  {
   "cell_type": "markdown",
   "metadata": {},
   "source": [
    "Create the instance of the class"
   ]
  },
  {
   "cell_type": "code",
   "execution_count": 5,
   "metadata": {},
   "outputs": [],
   "source": [
    "c = Classifier(filename=path, class_attr=\"Play\")"
   ]
  },
  {
   "cell_type": "markdown",
   "metadata": {},
   "source": [
    "## Take the inputs from the user and it should be in a specific format"
   ]
  },
  {
   "cell_type": "code",
   "execution_count": 7,
   "metadata": {},
   "outputs": [
    {
     "name": "stdout",
     "output_type": "stream",
     "text": [
      "Enter the correct values shown in the option! *Case Sensitive\n",
      "Enter 'x' or 'exit' to exit from the system\n"
     ]
    }
   ],
   "source": [
    "outlook = input(\"Whats the weather outside? (Sunny, Rainy, Overcast):\")\n",
    "if outlook.lower() == 'x' or outlook.lower() == 'exit':\n",
    "    exitSystem()\n",
    "temp = input(\"Whats the temperature today? (Hot, Mild, Cool):\")\n",
    "if temp.lower() == 'x' or temp.lower()== 'exit':\n",
    "    exitSystem()\n",
    "humidity = input(\"Whats the humidity? (High, Normal):\")\n",
    "if humidity.lower() == 'x' or humidity.lower()== 'exit':\n",
    "    exitSystem()\n",
    "windy = input(\"Is it windy tody? (Yes or No):\")\n",
    "if windy.lower() == 'x' or windy.lower()== 'exit':\n",
    "    exitSystem()"
   ]
  },
  {
   "cell_type": "code",
   "execution_count": 8,
   "metadata": {},
   "outputs": [
    {
     "name": "stdout",
     "output_type": "stream",
     "text": [
      "Sunny Hot High Yes\n"
     ]
    }
   ],
   "source": [
    "print(outlook, temp, humidity, windy)"
   ]
  },
  {
   "cell_type": "markdown",
   "metadata": {},
   "source": [
    "create the hypothesis for the class"
   ]
  },
  {
   "cell_type": "code",
   "execution_count": 10,
   "metadata": {},
   "outputs": [
    {
     "data": {
      "text/plain": [
       "{'Outlook': 'Sunny', 'Temp': 'Hot', 'Humidity': 'High', 'Windy': 'Yes'}"
      ]
     },
     "execution_count": 10,
     "metadata": {},
     "output_type": "execute_result"
    }
   ],
   "source": [
    "c.hypothesis = {\"Outlook\":outlook, \"Temp\":temp, \"Humidity\":humidity , \"Windy\":windy}\n",
    "c.hypothesis"
   ]
  },
  {
   "cell_type": "markdown",
   "metadata": {},
   "source": [
    "Calculate the prior probabilities"
   ]
  },
  {
   "cell_type": "code",
   "execution_count": 14,
   "metadata": {},
   "outputs": [
    {
     "name": "stdout",
     "output_type": "stream",
     "text": [
      "Priori Values:  {'no': 0.4375, 'yes': 0.5625}\n"
     ]
    }
   ],
   "source": [
    "c.calculate_priori()"
   ]
  },
  {
   "cell_type": "markdown",
   "metadata": {},
   "source": [
    "Calculate the conditional probabilities give the specific instance"
   ]
  },
  {
   "cell_type": "code",
   "execution_count": 12,
   "metadata": {},
   "outputs": [
    {
     "name": "stdout",
     "output_type": "stream",
     "text": [
      "\n",
      "Calculated Conditional Probabilities: \n",
      "\n",
      "{'no': {'High': 0.8571428571428571,\n",
      "        'Hot': 0.5714285714285714,\n",
      "        'Sunny': 0.42857142857142855,\n",
      "        'Yes': 0.7142857142857143},\n",
      " 'yes': {'High': 0.4444444444444444,\n",
      "         'Hot': 0.3333333333333333,\n",
      "         'Sunny': 0.4444444444444444,\n",
      "         'Yes': 0.4444444444444444}}\n"
     ]
    }
   ],
   "source": [
    "c.calculate_conditional_probabilities(c.hypothesis)"
   ]
  },
  {
   "cell_type": "markdown",
   "metadata": {},
   "source": [
    "This gives us the probabilities that we should paly or not"
   ]
  },
  {
   "cell_type": "code",
   "execution_count": 13,
   "metadata": {},
   "outputs": [
    {
     "name": "stdout",
     "output_type": "stream",
     "text": [
      "Result: \n",
      "no  ==>  0.06559766763848396\n",
      "yes  ==>  0.016460905349794237\n"
     ]
    }
   ],
   "source": [
    "c.classify()"
   ]
  },
  {
   "cell_type": "markdown",
   "metadata": {},
   "source": [
    "## Complete app in a single cell"
   ]
  },
  {
   "cell_type": "code",
   "execution_count": 15,
   "metadata": {},
   "outputs": [
    {
     "name": "stdout",
     "output_type": "stream",
     "text": [
      "Enter the correct values shown in the option! *Case Sensitive\n",
      "Enter 'x' or 'exit' to exit from the system\n",
      "Priori Values:  {'no': 0.4375, 'yes': 0.5625}\n",
      "\n",
      "Calculated Conditional Probabilities: \n",
      "\n",
      "{'no': {'High': 0.8571428571428571,\n",
      "        'Hot': 0.5714285714285714,\n",
      "        'No': 0.5714285714285714,\n",
      "        'Sunny': 0.42857142857142855},\n",
      " 'yes': {'High': 0.4444444444444444,\n",
      "         'Hot': 0.3333333333333333,\n",
      "         'No': 0.7777777777777778,\n",
      "         'Sunny': 0.4444444444444444}}\n",
      "Result: \n",
      "no  ==>  0.05247813411078716\n",
      "yes  ==>  0.028806584362139915\n"
     ]
    }
   ],
   "source": [
    "c = Classifier(filename=path, class_attr=\"Play\")\n",
    "print(\"Enter the correct values shown in the option! *Case Sensitive\")\n",
    "print(\"Enter 'x' or 'exit' to exit from the system\")\n",
    "outlook = input(\"Whats the weather outside? (Sunny, Rainy, Overcast):\")\n",
    "if outlook.lower() == 'x' or outlook.lower() == 'exit':\n",
    "    exitSystem()\n",
    "temp = input(\"Whats the temperature today? (Hot, Mild, Cool):\")\n",
    "if temp.lower() == 'x' or temp.lower()== 'exit':\n",
    "    exitSystem()\n",
    "humidity = input(\"Whats the humidity? (High, Normal):\")\n",
    "if humidity.lower() == 'x' or humidity.lower()== 'exit':\n",
    "    exitSystem()\n",
    "windy = input(\"Is it windy tody? (Yes or No):\")\n",
    "if windy.lower() == 'x' or windy.lower()== 'exit':\n",
    "    exitSystem()\n",
    "\n",
    "c.hypothesis = {\"Outlook\":outlook, \"Temp\":temp, \"Humidity\":humidity , \"Windy\":windy}\n",
    "c.calculate_priori()\n",
    "c.calculate_conditional_probabilities(c.hypothesis)\n",
    "c.classify()"
   ]
  },
  {
   "cell_type": "markdown",
   "metadata": {},
   "source": [
    "You can rn this in the terminal too"
   ]
  }
 ],
 "metadata": {
  "kernelspec": {
   "display_name": "Python 3.9.0 (conda)",
   "language": "python",
   "name": "python3"
  },
  "language_info": {
   "codemirror_mode": {
    "name": "ipython",
    "version": 3
   },
   "file_extension": ".py",
   "mimetype": "text/x-python",
   "name": "python",
   "nbconvert_exporter": "python",
   "pygments_lexer": "ipython3",
   "version": "3.9.0"
  },
  "orig_nbformat": 4,
  "vscode": {
   "interpreter": {
    "hash": "80b46c70d182f2e8e850ba14d95978bc99426819e158c097dbcf7fc954dd9b80"
   }
  }
 },
 "nbformat": 4,
 "nbformat_minor": 2
}
